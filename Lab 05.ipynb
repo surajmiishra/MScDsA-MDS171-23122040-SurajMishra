{
 "cells": [
  {
   "cell_type": "code",
   "execution_count": 19,
   "metadata": {},
   "outputs": [
    {
     "name": "stdout",
     "output_type": "stream",
     "text": [
      "Sales Information for pen:\n",
      "Total Quantity: 46 | Total Cost: 46.00\n",
      "Min Price: 1 | Max Price: 1\n"
     ]
    }
   ],
   "source": [
    "import random\n",
    "\n",
    "# Define lists of item names and their corresponding integer unit prices\n",
    "item_names = [\n",
    "    \"toffee\", \"chocolate\", \"pastry\", \"patties\", \"donuts\",\n",
    "    \"tea\", \"coffee\", \"pen\", \"notebook\", \"ice cream\"\n",
    "]\n",
    "item_prices = [2, 3, 5, 4, 2, 1, 2, 1, 3, 4]\n",
    "\n",
    "# Initialize lists to store item quantities and total costs\n",
    "item_quantities = [0] * len(item_names)\n",
    "item_costs = [0] * len(item_names)\n",
    "\n",
    "# Generate random data and calculate total cost for each row\n",
    "for _ in range(100):\n",
    "    index = random.randint(0, len(item_names) - 1)\n",
    "    item_name = item_names[index]\n",
    "    quantity = random.randint(1, 10)\n",
    "    unit_price = item_prices[index]\n",
    "    total_cost = quantity * unit_price\n",
    "\n",
    "    # Update the item quantities and total costs\n",
    "    item_quantities[index] += quantity\n",
    "    item_costs[index] += total_cost\n",
    "\n",
    "# Get the item to check from the user\n",
    "item_to_check = input(\"Enter the name of the item you want to check: \")\n",
    "\n",
    "# Find the index of the item in the item_names list\n",
    "if item_to_check in item_names:\n",
    "    item_index = item_names.index(item_to_check)\n",
    "\n",
    "    # Print the total sales information for the specified item\n",
    "    print(f\"Sales Information for {item_to_check}:\")\n",
    "    print(f\"Total Quantity: {item_quantities[item_index]} | Total Cost: {item_costs[item_index]:.2f}\")\n",
    "\n",
    "    # Calculate and print the minimum and maximum prices for the specified item\n",
    "    item_price = item_prices[item_index]\n",
    "\n",
    "    if item_quantities[item_index] > 0:\n",
    "        print(f\"Min Price: {item_price} | Max Price: {item_price}\")\n",
    "    else:\n",
    "        print(f\"No sales recorded for {item_to_check}\")\n",
    "else:\n",
    "    print(f\"The item '{item_to_check}' was not found in the list of items.\")"
   ]
  },
  {
   "cell_type": "code",
   "execution_count": null,
   "metadata": {},
   "outputs": [],
   "source": []
  }
 ],
 "metadata": {
  "kernelspec": {
   "display_name": "Python 3",
   "language": "python",
   "name": "python3"
  },
  "language_info": {
   "codemirror_mode": {
    "name": "ipython",
    "version": 3
   },
   "file_extension": ".py",
   "mimetype": "text/x-python",
   "name": "python",
   "nbconvert_exporter": "python",
   "pygments_lexer": "ipython3",
   "version": "3.11.5"
  },
  "orig_nbformat": 4
 },
 "nbformat": 4,
 "nbformat_minor": 2
}
