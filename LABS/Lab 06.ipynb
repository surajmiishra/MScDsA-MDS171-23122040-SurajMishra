{
 "cells": [
  {
   "cell_type": "code",
   "execution_count": 1,
   "metadata": {},
   "outputs": [
    {
     "name": "stdout",
     "output_type": "stream",
     "text": [
      "\n",
      "Total count of vowels: 1\n",
      "\n",
      "Vowel Counts:\n",
      "a: 1\n",
      "\n",
      "Percentage of vowels in the string: 100.00%\n"
     ]
    }
   ],
   "source": [
    "def main():\n",
    "    user_input = input(\"Enter a string: \")\n",
    "    user_input = user_input.lower()  # Convert input to lowercase for case-insensitive counting\n",
    "\n",
    "    vowel_count = {}\n",
    "    total_vowels = 0\n",
    "\n",
    "    for char in user_input:\n",
    "        if char.isalpha() and char in 'aeiou':\n",
    "            vowel_count[char] = vowel_count.get(char, 0) + 1\n",
    "            total_vowels += 1\n",
    "\n",
    "    print(\"\\nTotal count of vowels:\", total_vowels)\n",
    "\n",
    "    if total_vowels > 0:\n",
    "        print(\"\\nVowel Counts:\")\n",
    "        for vowel, count in vowel_count.items():\n",
    "            print(f\"{vowel}: {count}\")\n",
    "\n",
    "        percentage = (total_vowels / len(user_input)) * 100\n",
    "        print(f\"\\nPercentage of vowels in the string: {percentage:.2f}%\")\n",
    "\n",
    "if __name__ == \"__main__\":\n",
    "    main()\n"
   ]
  },
  {
   "cell_type": "code",
   "execution_count": null,
   "metadata": {},
   "outputs": [],
   "source": []
  }
 ],
 "metadata": {
  "kernelspec": {
   "display_name": "Python 3",
   "language": "python",
   "name": "python3"
  },
  "language_info": {
   "codemirror_mode": {
    "name": "ipython",
    "version": 3
   },
   "file_extension": ".py",
   "mimetype": "text/x-python",
   "name": "python",
   "nbconvert_exporter": "python",
   "pygments_lexer": "ipython3",
   "version": "3.11.5"
  },
  "orig_nbformat": 4
 },
 "nbformat": 4,
 "nbformat_minor": 2
}
