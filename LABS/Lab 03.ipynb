{
 "cells": [
  {
   "cell_type": "code",
   "execution_count": 1,
   "metadata": {},
   "outputs": [
    {
     "name": "stdout",
     "output_type": "stream",
     "text": [
      "User-defined Functions\n",
      "\n",
      "mean:  542.94\n",
      "minimum value:  17\n",
      "maximum value:  999\n",
      "range:  982\n",
      "\n",
      "\n",
      "The values matches with the predefined functions which is: mean\n",
      "mean:  542.94\n",
      "\n",
      "mean:  None \n",
      "minimum value: 17 \n",
      "maximum value: 999 \n",
      "and the range is  982\n"
     ]
    }
   ],
   "source": [
    "def mean(lis):\n",
    "    sum=0\n",
    "    count=0\n",
    "    mean=0\n",
    "    for i in lis:\n",
    "        sum+=i\n",
    "        count=count+1\n",
    "        mean=sum/count\n",
    "    print(\"mean: \",mean)\n",
    "\n",
    "def sorting(sort):\n",
    "    for i in range(0,len(sort)):\n",
    "        for j in range(i+1,len(sort)):\n",
    "            if sort[i]>sort[j]:\n",
    "                temp=sort[i]\n",
    "                sort[i]=sort[j]\n",
    "                sort[j]=temp\n",
    "    print(\"minimum value: \",sort[0])\n",
    "    print(\"maximum value: \",sort[99])\n",
    "    print(\"range: \", sort[99]-sort[0])\n",
    "List=[761, 123, 585, 275, 194, 840, 999, 622, 763, 40, 825, 687, 402, 338, 611, 987, 739, 95, 819, 568, 320, 126, 688, 948, 514, 223, 751, 379, 857, 767, 492, 162, 437, 934, 430, 343, 725, 511, 580, 678, 708, 823, 346, 179, 786, 663, 195, 890, 267, 502, 214, 300, 786, 961, 235, 559, 992, 919, 948, 318, 57, 787, 653, 317, 305, 172, 966, 182, 970, 17, 89, 624, 629, 595, 485, 752, 984, 978, 460, 124, 321, 256, 614, 852, 811, 561, 127, 207, 406, 615, 888, 391, 691, 470, 911, 401, 137, 600, 478, 682]\n",
    "print(\"User-defined Functions\\n\")\n",
    "mean(List)\n",
    "sorting(List)\n",
    "print(\"\\n\")\n",
    "print(\"The values matches with the predefined functions which is: mean\") \n",
    "print(\"\\nmean: \", mean(List), \"\\nminimum value:\",  min(List) , \"\\nmaximum value:\" , max(List) , \"\\nand the range is \" , max(List)-min(List))"
   ]
  }
 ],
 "metadata": {
  "kernelspec": {
   "display_name": "Python 3",
   "language": "python",
   "name": "python3"
  },
  "language_info": {
   "codemirror_mode": {
    "name": "ipython",
    "version": 3
   },
   "file_extension": ".py",
   "mimetype": "text/x-python",
   "name": "python",
   "nbconvert_exporter": "python",
   "pygments_lexer": "ipython3",
   "version": "3.12.0"
  }
 },
 "nbformat": 4,
 "nbformat_minor": 2
}
